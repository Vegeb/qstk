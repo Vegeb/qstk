{
 "cells": [
  {
   "cell_type": "markdown",
   "metadata": {
    "collapsed": false
   },
   "source": [
    "%matplotlib inline\n",
    "%run 'tutorial.py'"
   ]
  },
  {
   "cell_type": "code",
   "execution_count": 4,
   "metadata": {
    "collapsed": false
   },
   "outputs": [],
   "source": [
    "import pandas as pd\n",
    "import numpy as np\n",
    "import math\n",
    "import copy\n",
    "import QSTK.qstkutil.qsdateutil as du\n",
    "import datetime as dt\n",
    "import QSTK.qstkutil.DataAccess as da\n",
    "import QSTK.qstkutil.tsutil as tsu\n",
    "import QSTK.qstkstudy.EventProfiler as ep\n",
    "\n",
    "\"\"\"\n",
    "Accepts a list of symbols along with start and end date\n",
    "Returns the Event Matrix which is a pandas Datamatrix\n",
    "Event matrix has the following structure :\n",
    "    |IBM |GOOG|XOM |MSFT| GS | JP |\n",
    "(d1)|nan |nan | 1  |nan |nan | 1  |\n",
    "(d2)|nan | 1  |nan |nan |nan |nan |\n",
    "(d3)| 1  |nan | 1  |nan | 1  |nan |\n",
    "(d4)|nan |  1 |nan | 1  |nan |nan |\n",
    "...................................\n",
    "...................................\n",
    "Also, d1 = start date\n",
    "nan = no information about any event.\n",
    "1 = status bit(positively confirms the event occurence)\n",
    "\"\"\"\n",
    "\n",
    "\n",
    "def find_events(ls_symbols, d_data):\n",
    "    ''' Finding the event dataframe '''\n",
    "    df_close = d_data['close']\n",
    "    ts_market = df_close['SPY']\n",
    "\n",
    "    print \"Finding Events\"\n",
    "\n",
    "    # Creating an empty dataframe\n",
    "    df_events = copy.deepcopy(df_close)\n",
    "    df_events = df_events * np.NAN\n",
    "\n",
    "    # Time stamps for the event range\n",
    "    ldt_timestamps = df_close.index\n",
    "\n",
    "    for s_sym in ls_symbols:\n",
    "        for i in range(1, len(ldt_timestamps)):\n",
    "            # Calculating the returns for this timestamp\n",
    "            f_symprice_today = df_close[s_sym].ix[ldt_timestamps[i]]\n",
    "            f_symprice_yest = df_close[s_sym].ix[ldt_timestamps[i - 1]]\n",
    "            f_marketprice_today = ts_market.ix[ldt_timestamps[i]]\n",
    "            f_marketprice_yest = ts_market.ix[ldt_timestamps[i - 1]]\n",
    "            f_symreturn_today = (f_symprice_today / f_symprice_yest) - 1\n",
    "            f_marketreturn_today = (f_marketprice_today / f_marketprice_yest) - 1\n",
    "\n",
    "            # Event is found if the symbol is down more then 3% while the\n",
    "            # market is up more then 2%\n",
    "            if f_symreturn_today <= -0.03 and f_marketreturn_today >= 0.02:\n",
    "                df_events[s_sym].ix[ldt_timestamps[i]] = 1\n",
    "\n",
    "    return df_events"
   ]
  },
  {
   "cell_type": "code",
   "execution_count": 5,
   "metadata": {
    "collapsed": false
   },
   "outputs": [
    {
     "name": "stdout",
     "output_type": "stream",
     "text": [
      "Finding Events\n"
     ]
    }
   ],
   "source": [
    "    dt_start = dt.datetime(2008, 1, 1)\n",
    "    dt_end = dt.datetime(2009, 12, 31)\n",
    "    ldt_timestamps = du.getNYSEdays(dt_start, dt_end, dt.timedelta(hours=16))\n",
    "\n",
    "    dataobj = da.DataAccess('Yahoo')\n",
    "    ls_symbols = dataobj.get_symbols_from_list('sp5002012')\n",
    "    ls_symbols.append('SPY')\n",
    "\n",
    "    ls_keys = ['open', 'high', 'low', 'close', 'volume', 'actual_close']\n",
    "    ldf_data = dataobj.get_data(ldt_timestamps, ls_symbols, ls_keys)\n",
    "    d_data = dict(zip(ls_keys, ldf_data))\n",
    "\n",
    "    for s_key in ls_keys:\n",
    "        d_data[s_key] = d_data[s_key].fillna(method='ffill')\n",
    "        d_data[s_key] = d_data[s_key].fillna(method='bfill')\n",
    "        d_data[s_key] = d_data[s_key].fillna(1.0)\n",
    "\n",
    "    df_events = find_events(ls_symbols, d_data)"
   ]
  },
  {
   "cell_type": "code",
   "execution_count": 7,
   "metadata": {
    "collapsed": false
   },
   "outputs": [],
   "source": [
    "evt = ep.eventprofiler(df_events, d_data, i_lookback=20, i_lookforward=20,\n",
    "                s_filename='MyEventStudy.pdf', b_market_neutral=True, b_errorbars=True,\n",
    "                s_market_sym='SPY')\n",
    "\n",
    "    "
   ]
  },
  {
   "cell_type": "code",
   "execution_count": 16,
   "metadata": {
    "collapsed": false
   },
   "outputs": [],
   "source": [
    "import numpy as np\n",
    "import matplotlib.pyplot as plt\n",
    "\n",
    "import QSTK.qstkutil.DataAccess as da\n",
    "import QSTK.qstkutil.tsutil as tsu\n",
    "import QSTK.qstkutil.qsdateutil as du"
   ]
  },
  {
   "cell_type": "code",
   "execution_count": 27,
   "metadata": {
    "collapsed": true
   },
   "outputs": [],
   "source": [
    "df_events_arg = df_events\n",
    "i_lookback=20\n",
    "i_lookforward=20\n",
    "s_filename='MyEventStudy.pdf'\n",
    "b_market_neutral=True\n",
    "b_errorbars=True\n",
    "s_market_sym='SPY'\n",
    "%matplotlib inline"
   ]
  },
  {
   "cell_type": "code",
   "execution_count": 23,
   "metadata": {
    "collapsed": false
   },
   "outputs": [],
   "source": [
    "    df_close = d_data['close'].copy()\n",
    "    df_rets = df_close.copy()\n",
    "\n",
    "    # Do not modify the original event dataframe.\n",
    "    df_events = df_events_arg.copy()\n",
    "    tsu.returnize0(df_rets.values)\n",
    "    if b_market_neutral == True:\n",
    "        df_rets = df_rets - df_rets[s_market_sym]\n",
    "        del df_rets[s_market_sym]\n",
    "        del df_events[s_market_sym]\n",
    "\n",
    "    df_close = df_close.reindex(columns=df_events.columns)\n",
    "\n",
    "    # Removing the starting and the end events\n",
    "    df_events.values[0:i_lookback, :] = np.NaN\n",
    "    df_events.values[-i_lookforward:, :] = np.NaN\n",
    "    # Number of events\n",
    "    i_no_events = int(np.logical_not(np.isnan(df_events.values)).sum())\n",
    "    assert i_no_events > 0, \"Zero events in the event matrix\"\n",
    "    na_event_rets = \"False\"\n",
    "\n",
    "    # Looking for the events and pushing them to a matrix\n",
    "    for i, s_sym in enumerate(df_events.columns):\n",
    "        for j, dt_date in enumerate(df_events.index):\n",
    "            if df_events[s_sym][dt_date] == 1:\n",
    "                na_ret = df_rets[s_sym][j - i_lookback:j + 1 + i_lookforward]\n",
    "                if type(na_event_rets) == type(\"\"):\n",
    "                    na_event_rets = na_ret\n",
    "                else:\n",
    "                    na_event_rets = np.vstack((na_event_rets, na_ret))\n",
    "    if len(na_event_rets.shape) == 1:\n",
    "        na_event_rets = np.expand_dims(na_event_rets, axis=0)\n",
    "\n",
    "    # Computing daily rets and retuns\n",
    "    na_event_rets = np.cumprod(na_event_rets + 1, axis=1)\n",
    "    na_event_rets = (na_event_rets.T / na_event_rets[:, i_lookback]).T\n",
    "\n",
    "    # Study Params\n",
    "    na_mean = np.mean(na_event_rets, axis=0)\n",
    "    na_std = np.std(na_event_rets, axis=0)\n",
    "    li_time = range(-i_lookback, i_lookforward + 1)"
   ]
  },
  {
   "cell_type": "code",
   "execution_count": 28,
   "metadata": {
    "collapsed": false
   },
   "outputs": [
    {
     "data": {
      "text/plain": [
       "<matplotlib.text.Text at 0xdb5e790>"
      ]
     },
     "execution_count": 28,
     "metadata": {},
     "output_type": "execute_result"
    },
    {
     "data": {
      "image/png": "[encoded data removed]",
      "text/plain": [
       "<matplotlib.figure.Figure at 0x92994f0>"
      ]
     },
     "metadata": {},
     "output_type": "display_data"
    }
   ],
   "source": [
    "    plt.clf()\n",
    "    plt.axhline(y=1.0, xmin=-i_lookback, xmax=i_lookforward, color='k')\n",
    "    if b_errorbars == True:\n",
    "        plt.errorbar(li_time[i_lookback:], na_mean[i_lookback:],\n",
    "                    yerr=na_std[i_lookback:], ecolor='#AAAAFF',\n",
    "                    alpha=0.7)\n",
    "    plt.plot(li_time, na_mean, linewidth=3, label='mean', color='b')\n",
    "    plt.xlim(-i_lookback - 1, i_lookforward + 1)\n",
    "    if b_market_neutral == True:\n",
    "        plt.title('Market Relative mean return of ' +\\\n",
    "                str(i_no_events) + ' events')\n",
    "    else:\n",
    "        plt.title('Mean return of ' + str(i_no_events) + ' events')\n",
    "    plt.xlabel('Days')\n",
    "    plt.ylabel('Cumulative Returns')"
   ]
  },
  {
   "cell_type": "code",
   "execution_count": null,
   "metadata": {
    "collapsed": true
   },
   "outputs": [],
   "source": []
  }
 ],
 "metadata": {
  "kernelspec": {
   "display_name": "Python 2",
   "language": "python",
   "name": "python2"
  },
  "language_info": {
   "codemirror_mode": {
    "name": "ipython",
    "version": 2
   },
   "file_extension": ".py",
   "mimetype": "text/x-python",
   "name": "python",
   "nbconvert_exporter": "python",
   "pygments_lexer": "ipython2",
   "version": "2.7.11"
  }
 },
 "nbformat": 4,
 "nbformat_minor": 0
}
