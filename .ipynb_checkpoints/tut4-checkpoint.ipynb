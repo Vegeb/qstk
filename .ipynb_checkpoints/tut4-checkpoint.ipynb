{
 "cells": [
  {
   "cell_type": "code",
   "execution_count": 1,
   "metadata": {
    "collapsed": false
   },
   "outputs": [
    {
     "name": "stderr",
     "output_type": "stream",
     "text": [
      "C:\\Anaconda32\\lib\\site-packages\\QSTK\\qstkutil\\qsdateutil.py:36: FutureWarning: TimeSeries is deprecated. Please use Series\n",
      "  return pd.TimeSeries(index=dates, data=dates)\n"
     ]
    }
   ],
   "source": [
    "import QSTK.qstkutil.qsdateutil as du\n",
    "import QSTK.qstkutil.tsutil as tsu\n",
    "import QSTK.qstkutil.DataAccess as da\n",
    "import datetime as dt\n",
    "import matplotlib.pyplot as plt\n",
    "import pandas as pd\n",
    "import numpy as np\n",
    "import cPickle\n",
    "import QSTK.qstksim as qstksim\n",
    "%matplotlib inline"
   ]
  },
  {
   "cell_type": "code",
   "execution_count": 2,
   "metadata": {
    "collapsed": true
   },
   "outputs": [],
   "source": [
    "dt_start = dt.datetime(2004, 1, 1)\n",
    "dt_end = dt.datetime(2009, 12, 31)\n",
    "\n",
    "# We need closing prices so the timestamp should be hours=16.\n",
    "dt_timeofday = dt.timedelta(hours=16)\n",
    "\n",
    "# Get a list of trading days between the start and the end.\n",
    "ldt_timestamps = du.getNYSEdays(dt_start, dt_end, dt_timeofday)\n",
    "\n",
    "# Creating an object of the dataaccess class with Yahoo as the source.\n",
    "c_dataobj = da.DataAccess('Yahoo')\n",
    "\n",
    "ls_symbols = c_dataobj.get_symbols_from_list('sp5002012')\n",
    "ls_symbols = ls_symbols[:20]\n",
    "ls_symbols.append('_CASH')\n",
    "\n",
    "na_vals = np.random.randint(0, 1000, len(ls_symbols))\n",
    "# Normalize the row - Typecasting as everything is int.\n",
    "na_vals = na_vals / float(sum(na_vals))\n",
    "# Reshape to a 2D matrix to append into dataframe.\n",
    "na_vals = na_vals.reshape(1, -1)\n",
    "\n",
    "df_alloc = pd.DataFrame(na_vals, index=[ldt_timestamps[0]], columns=ls_symbols)"
   ]
  },
  {
   "cell_type": "code",
   "execution_count": 4,
   "metadata": {
    "collapsed": false
   },
   "outputs": [],
   "source": [
    "dt_last_date = ldt_timestamps[0]\n",
    "# Looping through all dates and creating monthly allocations\n",
    "for dt_date in ldt_timestamps[1:]:\n",
    "    if dt_last_date.month != dt_date.month:\n",
    "        # Create allocation\n",
    "        na_vals = np.random.randint(0, 1000, len(ls_symbols))\n",
    "        na_vals = na_vals / float(sum(na_vals))\n",
    "        na_vals = na_vals.reshape(1, -1)\n",
    "        # Append to the dataframe\n",
    "        df_new_row = pd.DataFrame(na_vals, index=[dt_date], columns=ls_symbols)\n",
    "        df_alloc = df_alloc.append(df_new_row)\n",
    "    dt_last_date = dt_date\n",
    "\n",
    "output=open(\"allocations.pkl\",\"wb\")\n",
    "cPickle.dump(df_alloc,output)"
   ]
  },
  {
   "cell_type": "code",
   "execution_count": 6,
   "metadata": {
    "collapsed": false
   },
   "outputs": [
    {
     "ename": "NameError",
     "evalue": "name 'df_close' is not defined",
     "output_type": "error",
     "traceback": [
      "\u001b[1;31m---------------------------------------------------------------------------\u001b[0m",
      "\u001b[1;31mNameError\u001b[0m                                 Traceback (most recent call last)",
      "\u001b[1;32m<ipython-input-6-e04774243a2f>\u001b[0m in \u001b[0;36m<module>\u001b[1;34m()\u001b[0m\n\u001b[0;32m      2\u001b[0m \u001b[1;31m#setup historic\u001b[0m\u001b[1;33m\u001b[0m\u001b[1;33m\u001b[0m\u001b[0m\n\u001b[0;32m      3\u001b[0m (ts_funds, ts_leverage, f_commission, f_slippage, f_borrow_cost) = qstksim.tradesim(df_alloc,\n\u001b[1;32m----> 4\u001b[1;33m                     \u001b[0mdf_close\u001b[0m\u001b[1;33m,\u001b[0m \u001b[0mf_start_cash\u001b[0m\u001b[1;33m=\u001b[0m\u001b[1;36m10000.0\u001b[0m\u001b[1;33m,\u001b[0m \u001b[0mi_leastcount\u001b[0m\u001b[1;33m=\u001b[0m\u001b[1;36m1\u001b[0m\u001b[1;33m,\u001b[0m \u001b[0mb_followleastcount\u001b[0m\u001b[1;33m=\u001b[0m\u001b[0mTrue\u001b[0m\u001b[1;33m,\u001b[0m\u001b[1;33m\u001b[0m\u001b[0m\n\u001b[0m\u001b[0;32m      5\u001b[0m                     \u001b[0mf_slippage\u001b[0m\u001b[1;33m=\u001b[0m\u001b[1;36m0.0005\u001b[0m\u001b[1;33m,\u001b[0m \u001b[0mf_minimumcommision\u001b[0m\u001b[1;33m=\u001b[0m\u001b[1;36m5.0\u001b[0m\u001b[1;33m,\u001b[0m \u001b[0mf_commision_share\u001b[0m\u001b[1;33m=\u001b[0m\u001b[1;36m0.0035\u001b[0m\u001b[1;33m,\u001b[0m\u001b[1;33m\u001b[0m\u001b[0m\n\u001b[0;32m      6\u001b[0m                     i_target_leverage=1, f_rate_borrow=3.5, log=\"transaction.csv\")\n",
      "\u001b[1;31mNameError\u001b[0m: name 'df_close' is not defined"
     ]
    }
   ],
   "source": []
  },
  {
   "cell_type": "code",
   "execution_count": null,
   "metadata": {
    "collapsed": true
   },
   "outputs": [],
   "source": []
  }
 ],
 "metadata": {
  "kernelspec": {
   "display_name": "Python 2",
   "language": "python",
   "name": "python2"
  },
  "language_info": {
   "codemirror_mode": {
    "name": "ipython",
    "version": 2
   },
   "file_extension": ".py",
   "mimetype": "text/x-python",
   "name": "python",
   "nbconvert_exporter": "python",
   "pygments_lexer": "ipython2",
   "version": "2.7.11"
  }
 },
 "nbformat": 4,
 "nbformat_minor": 0
}
