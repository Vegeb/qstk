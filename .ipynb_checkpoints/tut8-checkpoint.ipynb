{
 "cells": [
  {
   "cell_type": "code",
   "execution_count": 2,
   "metadata": {
    "collapsed": true
   },
   "outputs": [],
   "source": [
    "# QSTK Imports\n",
    "import QSTK.qstkutil.qsdateutil as du\n",
    "import QSTK.qstkutil.tsutil as tsu\n",
    "import QSTK.qstkutil.DataAccess as da\n",
    "\n",
    "# Third Party Imports\n",
    "import datetime as dt\n",
    "import matplotlib.pyplot as plt\n",
    "import pandas as pd\n",
    "import numpy as np"
   ]
  },
  {
   "cell_type": "code",
   "execution_count": 3,
   "metadata": {
    "collapsed": true
   },
   "outputs": [],
   "source": [
    "def getFrontier(na_data):\n",
    "    '''Function gets a 100 sample point frontier for given returns'''\n",
    "\n",
    "    # Special Case with fTarget=None, just returns average rets.\n",
    "    (na_avgrets, na_std, b_error) = tsu.OptPort(na_data, None)\n",
    "\n",
    "    # Declaring bounds on the optimized portfolio\n",
    "    na_lower = np.zeros(na_data.shape[1])\n",
    "    na_upper = np.ones(na_data.shape[1])\n",
    "\n",
    "    # Getting the range of possible returns with these bounds\n",
    "    (f_min, f_max) = tsu.getRetRange(na_data, na_lower, na_upper,\n",
    "                            na_avgrets, s_type=\"long\")\n",
    "\n",
    "    # Getting the step size and list of returns to optimize for.\n",
    "    f_step = (f_max - f_min) / 100.0\n",
    "    lf_returns = [f_min + x * f_step for x in range(101)]\n",
    "\n",
    "    # Declaring empty lists\n",
    "    lf_std = []\n",
    "    lna_portfolios = []\n",
    "\n",
    "    # Calling the optimization for all returns\n",
    "    for f_target in lf_returns:\n",
    "        (na_weights, f_std, b_error) = tsu.OptPort(na_data, f_target,\n",
    "                                na_lower, na_upper, s_type=\"long\")\n",
    "        lf_std.append(f_std)\n",
    "        lna_portfolios.append(na_weights)\n",
    "\n",
    "    return (lf_returns, lf_std, lna_portfolios, na_avgrets, na_std)"
   ]
  },
  {
   "cell_type": "code",
   "execution_count": 6,
   "metadata": {
    "collapsed": false
   },
   "outputs": [
    {
     "name": "stdout",
     "output_type": "stream",
     "text": [
      "Could not import CVX library\n"
     ]
    },
    {
     "ename": "ImportError",
     "evalue": "No module named cvxopt",
     "output_type": "error",
     "traceback": [
      "\u001b[1;31m---------------------------------------------------------------------------\u001b[0m",
      "\u001b[1;31mImportError\u001b[0m                               Traceback (most recent call last)",
      "\u001b[1;32m<ipython-input-6-2fa3b16fcfb8>\u001b[0m in \u001b[0;36m<module>\u001b[1;34m()\u001b[0m\n\u001b[0;32m     48\u001b[0m \u001b[1;33m\u001b[0m\u001b[0m\n\u001b[0;32m     49\u001b[0m \u001b[1;31m# Calculating the frontier.\u001b[0m\u001b[1;33m\u001b[0m\u001b[1;33m\u001b[0m\u001b[0m\n\u001b[1;32m---> 50\u001b[1;33m \u001b[1;33m(\u001b[0m\u001b[0mlf_returns\u001b[0m\u001b[1;33m,\u001b[0m \u001b[0mlf_std\u001b[0m\u001b[1;33m,\u001b[0m \u001b[0mlna_portfolios\u001b[0m\u001b[1;33m,\u001b[0m \u001b[0mna_avgrets\u001b[0m\u001b[1;33m,\u001b[0m \u001b[0mna_std\u001b[0m\u001b[1;33m)\u001b[0m \u001b[1;33m=\u001b[0m \u001b[0mgetFrontier\u001b[0m\u001b[1;33m(\u001b[0m\u001b[0mna_data\u001b[0m\u001b[1;33m)\u001b[0m\u001b[1;33m\u001b[0m\u001b[0m\n\u001b[0m\u001b[0;32m     51\u001b[0m \u001b[1;33m(\u001b[0m\u001b[0mlf_returns_test\u001b[0m\u001b[1;33m,\u001b[0m \u001b[0mlf_std_test\u001b[0m\u001b[1;33m,\u001b[0m \u001b[0munused\u001b[0m\u001b[1;33m,\u001b[0m \u001b[0munused\u001b[0m\u001b[1;33m,\u001b[0m \u001b[0munused\u001b[0m\u001b[1;33m)\u001b[0m \u001b[1;33m=\u001b[0m \u001b[0mgetFrontier\u001b[0m\u001b[1;33m(\u001b[0m\u001b[0mna_data_test\u001b[0m\u001b[1;33m)\u001b[0m\u001b[1;33m\u001b[0m\u001b[0m\n\u001b[0;32m     52\u001b[0m \u001b[1;33m\u001b[0m\u001b[0m\n",
      "\u001b[1;32m<ipython-input-3-5d87e8e377c0>\u001b[0m in \u001b[0;36mgetFrontier\u001b[1;34m(na_data)\u001b[0m\n\u001b[0;32m      3\u001b[0m \u001b[1;33m\u001b[0m\u001b[0m\n\u001b[0;32m      4\u001b[0m     \u001b[1;31m# Special Case with fTarget=None, just returns average rets.\u001b[0m\u001b[1;33m\u001b[0m\u001b[1;33m\u001b[0m\u001b[0m\n\u001b[1;32m----> 5\u001b[1;33m     \u001b[1;33m(\u001b[0m\u001b[0mna_avgrets\u001b[0m\u001b[1;33m,\u001b[0m \u001b[0mna_std\u001b[0m\u001b[1;33m,\u001b[0m \u001b[0mb_error\u001b[0m\u001b[1;33m)\u001b[0m \u001b[1;33m=\u001b[0m \u001b[0mtsu\u001b[0m\u001b[1;33m.\u001b[0m\u001b[0mOptPort\u001b[0m\u001b[1;33m(\u001b[0m\u001b[0mna_data\u001b[0m\u001b[1;33m,\u001b[0m \u001b[0mNone\u001b[0m\u001b[1;33m)\u001b[0m\u001b[1;33m\u001b[0m\u001b[0m\n\u001b[0m\u001b[0;32m      6\u001b[0m \u001b[1;33m\u001b[0m\u001b[0m\n\u001b[0;32m      7\u001b[0m     \u001b[1;31m# Declaring bounds on the optimized portfolio\u001b[0m\u001b[1;33m\u001b[0m\u001b[1;33m\u001b[0m\u001b[0m\n",
      "\u001b[1;32mC:\\Anaconda32\\lib\\site-packages\\QSTK\\qstkutil\\tsutil.pyc\u001b[0m in \u001b[0;36mOptPort\u001b[1;34m(naData, fTarget, naLower, naUpper, naExpected, s_type)\u001b[0m\n\u001b[0;32m    398\u001b[0m     \u001b[1;32mtry\u001b[0m\u001b[1;33m:\u001b[0m\u001b[1;33m\u001b[0m\u001b[0m\n\u001b[0;32m    399\u001b[0m         \u001b[1;32mpass\u001b[0m\u001b[1;33m\u001b[0m\u001b[0m\n\u001b[1;32m--> 400\u001b[1;33m         \u001b[1;32mfrom\u001b[0m \u001b[0mcvxopt\u001b[0m \u001b[1;32mimport\u001b[0m \u001b[0mmatrix\u001b[0m\u001b[1;33m\u001b[0m\u001b[0m\n\u001b[0m\u001b[0;32m    401\u001b[0m         \u001b[1;32mfrom\u001b[0m \u001b[0mcvxopt\u001b[0m\u001b[1;33m.\u001b[0m\u001b[0mblas\u001b[0m \u001b[1;32mimport\u001b[0m \u001b[0mdot\u001b[0m\u001b[1;33m\u001b[0m\u001b[0m\n\u001b[0;32m    402\u001b[0m         \u001b[1;32mfrom\u001b[0m \u001b[0mcvxopt\u001b[0m\u001b[1;33m.\u001b[0m\u001b[0msolvers\u001b[0m \u001b[1;32mimport\u001b[0m \u001b[0mqp\u001b[0m\u001b[1;33m,\u001b[0m \u001b[0moptions\u001b[0m\u001b[1;33m\u001b[0m\u001b[0m\n",
      "\u001b[1;31mImportError\u001b[0m: No module named cvxopt"
     ]
    }
   ],
   "source": [
    "    # S&P 100\n",
    "    ls_symbols = ['AAPL', 'ABT', 'ACN', 'AEP', 'ALL', 'AMGN', 'AMZN', 'APC', 'AXP', 'BA', 'BAC', 'BAX', 'BHI', 'BK', 'BMY', \n",
    "                  'BRK.B', 'CAT', 'C', 'CL', 'CMCSA', 'COF', 'COP', 'COST', 'CPB', 'CSCO', 'CVS', 'CVX', 'DD', 'DELL', 'DIS', 'DOW',\n",
    "                  'DVN', 'EBAY', 'EMC', 'EXC', 'F', 'FCX', 'FDX', 'GD', 'GE', 'GILD', 'GOOG', 'GS', 'HAL', 'HD', 'HNZ', 'HON', 'HPQ', \n",
    "                  'IBM', 'INTC', 'JNJ', 'JPM', 'KFT', 'KO', 'LLY', 'LMT', 'LOW', 'MA', 'MCD', 'MDT', 'MET', 'MMM', 'MO', 'MON', 'MRK', \n",
    "                  'MS', 'MSFT', 'NKE', 'NOV', 'NSC', 'NWSA', 'NYX', 'ORCL', 'OXY', 'PEP', 'PFE', 'PG', 'PM', 'QCOM', 'RF', 'RTN', 'SBUX', \n",
    "                  'SLB', 'HSH', 'SO', 'SPG', 'T', 'TGT', 'TWX', 'TXN', 'UNH', 'UPS', 'USB', 'UTX', 'VZ', 'WAG', 'WFC', 'WMB', 'WMT', 'XOM']\n",
    "\n",
    "    # Creating an object of the dataaccess class with Yahoo as the source.\n",
    "    c_dataobj = da.DataAccess('Yahoo')\n",
    "\n",
    "    ls_all_syms = c_dataobj.get_all_symbols()\n",
    "    # Bad symbols are symbols present in portfolio but not in all syms\n",
    "    ls_bad_syms = list(set(ls_symbols) - set(ls_all_syms))\n",
    "    for s_sym in ls_bad_syms:\n",
    "        i_index = ls_symbols.index(s_sym)\n",
    "        ls_symbols.pop(i_index)\n",
    "\n",
    "    # Start and End date of the charts\n",
    "    dt_end = dt.datetime(2010, 1, 1)\n",
    "    dt_start = dt_end - dt.timedelta(days=365)\n",
    "    dt_test = dt_end + dt.timedelta(days=365)\n",
    "\n",
    "    # We need closing prices so the timestamp should be hours=16.\n",
    "    dt_timeofday = dt.timedelta(hours=16)\n",
    "\n",
    "    # Get a list of trading days between the start and the end.\n",
    "    ldt_timestamps = du.getNYSEdays(dt_start, dt_end, dt_timeofday)\n",
    "    ldt_timestamps_test = du.getNYSEdays(dt_end, dt_test, dt_timeofday)\n",
    "\n",
    "    # Reading just the close prices\n",
    "    df_close = c_dataobj.get_data(ldt_timestamps, ls_symbols, \"close\")\n",
    "    df_close_test = c_dataobj.get_data(ldt_timestamps_test, ls_symbols, \"close\")\n",
    "\n",
    "    # Filling the data for missing NAN values\n",
    "    df_close = df_close.fillna(method='ffill')\n",
    "    df_close = df_close.fillna(method='bfill')\n",
    "    df_close_test = df_close_test.fillna(method='ffill')\n",
    "    df_close_test = df_close_test.fillna(method='bfill')\n",
    "\n",
    "    # Copying the data values to a numpy array to get returns\n",
    "    na_data = df_close.values.copy()\n",
    "    na_data_test = df_close_test.values.copy()\n",
    "\n",
    "    # Getting the daily returns\n",
    "    tsu.returnize0(na_data)\n",
    "    tsu.returnize0(na_data_test)\n",
    "\n",
    "    # Calculating the frontier.\n",
    "    (lf_returns, lf_std, lna_portfolios, na_avgrets, na_std) = getFrontier(na_data)\n",
    "    (lf_returns_test, lf_std_test, unused, unused, unused) = getFrontier(na_data_test)\n",
    "\n",
    "    # Plotting the efficient frontier\n",
    "    plt.clf()\n",
    "    plt.plot(lf_std, lf_returns, 'b')\n",
    "    plt.plot(lf_std_test, lf_returns_test, 'r')\n",
    "\n",
    "    # Plot where the efficient frontier would be the following year\n",
    "    lf_ret_port_test = []\n",
    "    lf_std_port_test = []\n",
    "    for na_portfolio in lna_portfolios:\n",
    "        na_port_rets = np.dot(na_data_test, na_portfolio)\n",
    "        lf_std_port_test.append(np.std(na_port_rets))\n",
    "        lf_ret_port_test.append(np.average(na_port_rets))\n",
    "\n",
    "    plt.plot(lf_std_port_test, lf_ret_port_test, 'k')\n",
    "\n",
    "    # Plot indivisual stock risk/return as green +\n",
    "    for i, f_ret in enumerate(na_avgrets):\n",
    "        plt.plot(na_std[i], f_ret, 'g+')\n",
    "\n",
    "    # # Plot some arrows showing transistion of efficient frontier\n",
    "    # for i in range(0, 101, 10):\n",
    "    #     plt.arrow(lf_std[i], lf_returns[i], lf_std_port_test[i] - lf_std[i],\n",
    "    #                 lf_ret_port_test[i] - lf_returns[i], color='k')\n",
    "\n",
    "    # Labels and Axis\n",
    "    plt.legend(['2009 Frontier', '2010 Frontier',\n",
    "        'Performance of \\'09 Frontier in 2010'], loc='lower right')\n",
    "    plt.title('Efficient Frontier For S&P 100 ')\n",
    "    plt.ylabel('Expected Return')\n",
    "    plt.xlabel('StDev')\n",
    "    plt.savefig('tutorial8.pdf', format='pdf')"
   ]
  },
  {
   "cell_type": "code",
   "execution_count": null,
   "metadata": {
    "collapsed": true
   },
   "outputs": [],
   "source": []
  }
 ],
 "metadata": {
  "kernelspec": {
   "display_name": "Python 2",
   "language": "python",
   "name": "python2"
  },
  "language_info": {
   "codemirror_mode": {
    "name": "ipython",
    "version": 2
   },
   "file_extension": ".py",
   "mimetype": "text/x-python",
   "name": "python",
   "nbconvert_exporter": "python",
   "pygments_lexer": "ipython2",
   "version": "2.7.11"
  }
 },
 "nbformat": 4,
 "nbformat_minor": 0
}
